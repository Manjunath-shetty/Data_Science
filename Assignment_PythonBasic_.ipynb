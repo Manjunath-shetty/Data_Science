{
  "cells": [
    {
      "cell_type": "markdown",
      "metadata": {
        "id": "view-in-github",
        "colab_type": "text"
      },
      "source": [
        "<a href=\"https://colab.research.google.com/github/Manjunath-shetty/Data_Science/blob/main/Assignment_PythonBasic_.ipynb\" target=\"_parent\"><img src=\"https://colab.research.google.com/assets/colab-badge.svg\" alt=\"Open In Colab\"/></a>"
      ]
    },
    {
      "cell_type": "code",
      "execution_count": null,
      "id": "39906d55",
      "metadata": {
        "id": "39906d55",
        "outputId": "0233369b-d9ed-4788-8981-f36537444fb6"
      },
      "outputs": [
        {
          "name": "stdout",
          "output_type": "stream",
          "text": [
            "Hello World! :\n"
          ]
        }
      ],
      "source": [
        "# Q1. Print Hello world! :\n",
        "print('Hello World! :')\n",
        "\n",
        "\n"
      ]
    },
    {
      "cell_type": "code",
      "execution_count": null,
      "id": "92f3576e",
      "metadata": {
        "id": "92f3576e",
        "outputId": "e86f00c9-f793-4511-9f87-16c8dbb09ada"
      },
      "outputs": [
        {
          "name": "stdout",
          "output_type": "stream",
          "text": [
            "10 <class 'int'> 1798915779152\n",
            "20.0 <class 'float'> 1799001342480\n",
            "<class 'bool'> 140708573206632\n",
            "Python <class 'str'> 140708573206632\n"
          ]
        }
      ],
      "source": [
        "# Q2.  Declare the following variables:\n",
        "# Int, Float, Boolean, String & print its value.\n",
        "\n",
        "# Int\n",
        "a = 10\n",
        "print(a, type(a), id(a))\n",
        "\n",
        "# Float\n",
        "b = 20.0\n",
        "print(b, type(b), id(b))\n",
        "\n",
        "# Boolean\n",
        "c = True\n",
        "print(type(c), id(c))\n",
        "\n",
        "# String\n",
        "d = 'Python'\n",
        "print(d, type(d), id(c))\n"
      ]
    },
    {
      "cell_type": "code",
      "execution_count": null,
      "id": "3cc01328",
      "metadata": {
        "id": "3cc01328",
        "outputId": "66adc3fe-06ff-4ce2-cf18-0bd01afc7553"
      },
      "outputs": [
        {
          "name": "stdout",
          "output_type": "stream",
          "text": [
            "Enter base of the triangle :5\n",
            "Enter height of the triangle :5\n",
            "Area of triangle is = 12.5\n"
          ]
        }
      ],
      "source": [
        "# Q3.  Program to calculate the Area Of Triangle:\n",
        "\n",
        "b = base = float(input('Enter base of the triangle :'))\n",
        "h = height = float(input('Enter height of the triangle :'))\n",
        "print('Area of triangle is =', (b*h)/2)\n",
        "\n",
        "b = base = float(input('Enter base of the triangle :'))\n",
        "h = height = float(input('Enter height of the triangle :'))\n",
        "print('Area of triangle is =', (b*h*0.5))\n",
        "\n",
        "\n"
      ]
    },
    {
      "cell_type": "code",
      "execution_count": null,
      "id": "b49e8df7",
      "metadata": {
        "id": "b49e8df7",
        "outputId": "c1a3aae9-4df7-44a4-da8c-51fae303bd19"
      },
      "outputs": [
        {
          "name": "stdout",
          "output_type": "stream",
          "text": [
            "value of n1 20\n",
            "value of n2 10\n"
          ]
        }
      ],
      "source": [
        "# Q4.  Program to swap two variables:\n",
        "n1 = 10\n",
        "n2 = 20\n",
        "temp = n1\n",
        "n1=n2\n",
        "n2=temp\n",
        "print('value of n1', n1)\n",
        "print('value of n2', n2)\n",
        "\n",
        "\n"
      ]
    },
    {
      "cell_type": "code",
      "execution_count": null,
      "id": "536a7c04",
      "metadata": {
        "id": "536a7c04",
        "outputId": "1bb0977e-68b5-417e-ac1c-5a18166cf737"
      },
      "outputs": [
        {
          "name": "stdout",
          "output_type": "stream",
          "text": [
            "Enter a number :-6126\n",
            "-6126.0 is Negative\n",
            "Enter a number :+51131\n",
            "51131.0 is Positive\n"
          ]
        }
      ],
      "source": [
        "# # Q5. Program is to check if a number is positive, negative or 0 (Using If…elif…else).\n",
        "\n",
        "num = float(input('Enter a number :'))\n",
        "\n",
        "if num > 0:\n",
        "    print( num , 'is Postive')\n",
        "elif num < 0:\n",
        "    print(num, 'is Negative')\n",
        "else :\n",
        "    print(\"value is Zero\")\n",
        "    \n",
        "# Using Nested if\n",
        "\n",
        "num = float(input('Enter a number :'))\n",
        "if num>=0:\n",
        "    if num==0:\n",
        "        print(num, 'is zero')\n",
        "    else:\n",
        "        print(num, 'is Positive')\n",
        "else:\n",
        "        print(num, 'is Negative')\n",
        "\n",
        "    \n",
        "\n",
        "   \n"
      ]
    },
    {
      "cell_type": "code",
      "execution_count": null,
      "id": "274892f8",
      "metadata": {
        "id": "274892f8",
        "outputId": "8a729942-1c00-41d2-bf2b-871457fee176"
      },
      "outputs": [
        {
          "name": "stdout",
          "output_type": "stream",
          "text": [
            " Enter a number :100000000\n",
            "100000000 is Even\n"
          ]
        }
      ],
      "source": [
        "# Q6.  Program is to check if a number is Even or Odd:\n",
        "\n",
        "Num = int(input(' Enter a number :'))\n",
        "\n",
        "if Num%2 == 0:\n",
        "    print(Num,'is Even')\n",
        "else:\n",
        "    print(Num, 'is Odd')\n",
        "\n",
        "\n",
        "    "
      ]
    },
    {
      "cell_type": "code",
      "execution_count": null,
      "id": "4cd67453",
      "metadata": {
        "id": "4cd67453",
        "outputId": "e264fb7a-e7bf-4c86-e1bf-e37e1e267025"
      },
      "outputs": [
        {
          "name": "stdout",
          "output_type": "stream",
          "text": [
            "1\n",
            "3\n",
            "5\n",
            "7\n",
            "9\n"
          ]
        }
      ],
      "source": [
        "# Q.7 Program to print Odd number within a given range:\n",
        "\n",
        "for i in range(10):\n",
        "    if i%2==1:\n",
        "        print(i)\n"
      ]
    },
    {
      "cell_type": "code",
      "execution_count": null,
      "id": "e4df919a",
      "metadata": {
        "id": "e4df919a",
        "outputId": "adca2634-e411-4bbb-f685-3199a8273521"
      },
      "outputs": [
        {
          "name": "stdout",
          "output_type": "stream",
          "text": [
            "The factorial of 0 is 1\n"
          ]
        }
      ],
      "source": [
        "# Q8.  Python program to find the factorial of a number:\n",
        "\n",
        "\n",
        "num= 0\n",
        "factorial = 1\n",
        "\n",
        "if num < 0:\n",
        "    print(\"Sorry, factorial does not exist for negative numbers\")\n",
        "elif num == 0:\n",
        "    print(\"The factorial of 0 is 1\")\n",
        "else:\n",
        "    for i in range(1,num + 1):\n",
        "        factorial = factorial*i\n",
        "    print(\"The factorial of\",num,\"is\",factorial)\n",
        "\n"
      ]
    },
    {
      "cell_type": "code",
      "execution_count": null,
      "id": "54bbf5de",
      "metadata": {
        "id": "54bbf5de"
      },
      "outputs": [],
      "source": [
        ""
      ]
    },
    {
      "cell_type": "code",
      "execution_count": null,
      "id": "658a7122",
      "metadata": {
        "id": "658a7122"
      },
      "outputs": [],
      "source": [
        ""
      ]
    }
  ],
  "metadata": {
    "kernelspec": {
      "display_name": "Python 3 (ipykernel)",
      "language": "python",
      "name": "python3"
    },
    "language_info": {
      "codemirror_mode": {
        "name": "ipython",
        "version": 3
      },
      "file_extension": ".py",
      "mimetype": "text/x-python",
      "name": "python",
      "nbconvert_exporter": "python",
      "pygments_lexer": "ipython3",
      "version": "3.9.12"
    },
    "colab": {
      "name": "Assignment_PythonBasic .ipynb",
      "provenance": [],
      "include_colab_link": true
    }
  },
  "nbformat": 4,
  "nbformat_minor": 5
}