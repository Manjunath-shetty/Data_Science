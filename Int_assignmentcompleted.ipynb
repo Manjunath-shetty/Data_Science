{
  "cells": [
    {
      "cell_type": "markdown",
      "metadata": {
        "id": "view-in-github",
        "colab_type": "text"
      },
      "source": [
        "<a href=\"https://colab.research.google.com/github/Manjunath-shetty/Data_Science/blob/main/Int_assignmentcompleted.ipynb\" target=\"_parent\"><img src=\"https://colab.research.google.com/assets/colab-badge.svg\" alt=\"Open In Colab\"/></a>"
      ]
    },
    {
      "cell_type": "code",
      "execution_count": null,
      "metadata": {
        "id": "8A5Jw5NR1iEI",
        "outputId": "6848d25b-4dd5-439f-d5d8-439375d0a46b"
      },
      "outputs": [
        {
          "name": "stdout",
          "output_type": "stream",
          "text": [
            "<class 'int'> 2331334240848\n"
          ]
        }
      ],
      "source": [
        "#Declare an int value and store it in a variable. \n",
        "a = 10\n",
        "\n",
        "\n",
        "\n",
        "#Check the type and print the id of the same.\n",
        "print(type(a), id(a))"
      ]
    },
    {
      "cell_type": "code",
      "execution_count": null,
      "metadata": {
        "id": "0YU8LFTn1rAX",
        "outputId": "44385924-9dc7-4fa6-c72b-1b6b90a92a72"
      },
      "outputs": [
        {
          "name": "stdout",
          "output_type": "stream",
          "text": [
            "2331334434096\n",
            "2331334434096\n",
            "2331421789296\n",
            "2331421787376\n"
          ]
        }
      ],
      "source": [
        "#Take one int value between 0 - 256.\n",
        "#Assign it to two different variables.\n",
        "#Check the id of both the variables. It should come same. Check why?\n",
        "a = 159\n",
        "b = 159\n",
        "print(id(a))\n",
        "print(id(b))\n",
        "\n",
        "#Take one int value either less than -5 or greater than 256.\n",
        "#Assign it to two different variables.\n",
        "#Check the id of both the variables. It should come different.Check why?\n",
        "a = 257\n",
        "b = 257\n",
        "print(id(a))\n",
        "print(id(b))\n",
        "\n",
        "\n"
      ]
    },
    {
      "cell_type": "code",
      "execution_count": null,
      "metadata": {
        "id": "YzEIG0ZZ1tSK",
        "outputId": "7d282788-c178-4156-9a6c-95418bc7693a"
      },
      "outputs": [
        {
          "name": "stdout",
          "output_type": "stream",
          "text": [
            "Enter first Integer :4\n",
            "Enter second Integer :5\n",
            "9\n"
          ]
        }
      ],
      "source": [
        "#Arithmatic Operations on integers\n",
        "#Take two different intger values.\n",
        "#Store them in two different variables.\n",
        "#Do below operations on them:-\n",
        "    #Find sum of both numbers\n",
        "    #Find differce between them\n",
        "    #Find the product of both numbers.\n",
        "    #Find value after dividing first num with second number\n",
        "    #Find the remainder after dividing first number with second number\n",
        "    #Find the quotient after dividing first number with second number\n",
        "    #Find the result of first num to the power of second number.\n",
        "a = int(input('Enter first Integer :'))\n",
        "b = int(input('Enter second Integer :'))\n",
        "# print(a+b)\n",
        "# print(a-b)\n",
        "# print(a*b)\n",
        "# print(a/b)\n",
        "# print(a//b)\n",
        "# print(a**b)\n",
        "# print(a%b)\n",
        "print(f'sum of {a} and {b} is {a+b}')\n",
        "print(f'difference of {a} and {b} is {a-b}')\n",
        "print(f'product of {a} and {b} is {a*b}')\n",
        "print(f'division of {a} and {b} is {a/b}')\n",
        "print(f'square of {a} and {b} is {a**b}')\n",
        "print(f'Modulo of {a} and {b} is {a%b}')\n",
        "\n"
      ]
    },
    {
      "cell_type": "code",
      "execution_count": null,
      "metadata": {
        "id": "GGM7CdzA1wGn",
        "outputId": "92d5612b-5fe2-4914-8931-0e14fd5dcccf"
      },
      "outputs": [
        {
          "name": "stdout",
          "output_type": "stream",
          "text": [
            "b, is greater\n"
          ]
        }
      ],
      "source": [
        "#Comparison Operators on integers\n",
        "#Take two different intger values.\n",
        "#Store them in two different variables.\n",
        "#Do below operations on them:-\n",
        "    #Compare se two numbers with below operator:-\n",
        "        #Greater than, '>'\n",
        "        #Smaller than, '<'\n",
        "        #Greater than or equal to, '>='\n",
        "        #Less than or equal to, '<='\n",
        "#Observe their output(return type should be boolean)\n",
        "a = 100\n",
        "b = 200\n",
        "if a>b:\n",
        "    print(\"a, is greater\")\n",
        "else:\n",
        "    print(\"b, is greater\")\n"
      ]
    },
    {
      "cell_type": "code",
      "execution_count": null,
      "metadata": {
        "id": "9x904sUE1y9t",
        "outputId": "5192ee6a-41d9-416e-c37e-729239971ad5"
      },
      "outputs": [
        {
          "data": {
            "text/plain": [
              "True"
            ]
          },
          "execution_count": 42,
          "metadata": {},
          "output_type": "execute_result"
        }
      ],
      "source": [
        "#Equality Operator\n",
        "#Take two different intger values.\n",
        "#Store them in two different variables.\n",
        "#Equuate them using equality operator (==, !=)\n",
        "#Observe the output(return type should be boolean)\n",
        "a=10\n",
        "b=20\n",
        "a==b\n",
        "a!=b"
      ]
    },
    {
      "cell_type": "code",
      "execution_count": null,
      "metadata": {
        "id": "JmQFHUwc11S-",
        "outputId": "4d1b8866-f562-40dd-e108-af85e6fbf1bf"
      },
      "outputs": [
        {
          "name": "stdout",
          "output_type": "stream",
          "text": [
            "20\n",
            "0\n",
            "0\n",
            "0\n",
            "10\n",
            "20\n",
            "20\n",
            "0\n",
            "False\n",
            "True\n"
          ]
        }
      ],
      "source": [
        "#Logical operators\n",
        "#Observe the output of below code\n",
        "#Cross check the output manually\n",
        "\n",
        "print(10 and 20)       #----------------------------------------->Output is 20\n",
        "print(0 and 20)        #----------------------------------------->Output is 0\n",
        "print(20 and 0)        #----------------------------------------->Output is 0\n",
        "print(0 and 0)         #----------------------------------------->Output is 0\n",
        "\n",
        "print(10 or 20)        #----------------------------------------->Output is 10\n",
        "print(0 or 20)         #----------------------------------------->Output is 20\n",
        "print(20 or 0)         #----------------------------------------->Output is 20\n",
        "print(0 or 0)          #----------------------------------------->Output is 0\n",
        "\n",
        "print(not 10)          #----------------------------------------->Output is False\n",
        "print(not 0)           #----------------------------------------->Output is True"
      ]
    },
    {
      "cell_type": "code",
      "execution_count": null,
      "metadata": {
        "id": "-0tvoulX14Hi",
        "outputId": "928d87ac-9335-4cde-adfd-bf82a0aedcac"
      },
      "outputs": [
        {
          "data": {
            "text/plain": [
              "True"
            ]
          },
          "execution_count": 63,
          "metadata": {},
          "output_type": "execute_result"
        }
      ],
      "source": [
        "#Bitwise Operators\n",
        "#Do below operations on the values provided below:-\n",
        "    #Bitwise and(&) -----------------------------------------> 10, 20   -------> Output is 0\n",
        "    #Bitwise or(|)  -----------------------------------------> 10, 20   -------> Output is 30\n",
        "    #Bitwise(^)     -----------------------------------------> 10, 20   -------> Output is 30\n",
        "    #Bitwise negation(~) ------------------------------------> 10       -------> Output is -11\n",
        "    #Bitwise left shift  ------------------------------------> 10,2     -------> Output is 40\n",
        "    #Bitwise right shift ------------------------------------> 10,2     -------> Output is 2\n",
        "#Cross check the output manually\n",
        "10 & 20 \n",
        "10 | 20 \n",
        "10 ^ 20 \n",
        "~10 \n",
        "10<2 \n",
        "10>2"
      ]
    },
    {
      "cell_type": "code",
      "execution_count": null,
      "metadata": {
        "id": "YCcx-Qx016hg",
        "outputId": "24fbb041-8f52-4350-bc46-eaffe0fdf4c7"
      },
      "outputs": [
        {
          "name": "stdout",
          "output_type": "stream",
          "text": [
            "True\n",
            "False\n",
            "False\n",
            "True\n"
          ]
        }
      ],
      "source": [
        "#What is the output of expression inside print statement. Cross check before running the program.\n",
        "a = 10\n",
        "b = 10\n",
        "print(a is b)          #True or False?\n",
        "print(a is not b)      #True or False?\n",
        "\n",
        "a = 1000\n",
        "b = 1000\n",
        "print(a is b)          #True or False?\n",
        "print(a is not b)      #True or False?"
      ]
    },
    {
      "cell_type": "code",
      "execution_count": null,
      "metadata": {
        "id": "Un2To3XN1_Il",
        "outputId": "93cd7a75-4b08-42d2-bb3f-2a829286540f"
      },
      "outputs": [
        {
          "name": "stdout",
          "output_type": "stream",
          "text": [
            "20\n"
          ]
        }
      ],
      "source": [
        "#What is the output of expression inside print statement. Cross check before running the program.\n",
        "print(10+(10*32)//2**5&20+(~(-10))<<2)"
      ]
    },
    {
      "cell_type": "code",
      "execution_count": null,
      "metadata": {
        "id": "kGRb5RMd1_1I",
        "outputId": "4960ee46-1c60-424a-a42a-6486b160bf3c"
      },
      "outputs": [
        {
          "name": "stdout",
          "output_type": "stream",
          "text": [
            "True\n",
            "True\n",
            "True\n",
            "True\n",
            "True\n",
            "True\n"
          ]
        }
      ],
      "source": [
        "#Membership operation\n",
        "#in, not in are two membership operators and it returns boolean value\n",
        "\n",
        "print('2' in 'Python2.7.8')\n",
        "print(10 in [10,10.20,10+20j,'Python'])\n",
        "print(10 in (10,10.20,10+20j,'Python'))\n",
        "print(2 in {1,2,3})\n",
        "print(3 in {1:100, 2:200, 3:300})\n",
        "print(10 in range(20))"
      ]
    },
    {
      "cell_type": "code",
      "execution_count": null,
      "metadata": {
        "id": "Es7iSvL92B9W",
        "outputId": "4c5fe261-2a9a-418d-8596-69c4bbe2aab5"
      },
      "outputs": [
        {
          "name": "stdout",
          "output_type": "stream",
          "text": [
            "0b1010\n",
            "0xa\n",
            "0o12\n",
            "0b10011010010100\n",
            "0o23224\n",
            "0x2694\n"
          ]
        }
      ],
      "source": [
        "#An integer can be represented in binary, octal or hexadecimal form.\n",
        "#Declare one binary, one octal and one hexadecimal value and store them in three different variables.\n",
        "#Convert 9876 to its binary, octal and hexadecimal equivalent and print their corresponding value.\n",
        "a =print(bin(10))\n",
        "b =print(hex(10))\n",
        "c =print(oct(10))\n",
        "print(bin(9876))\n",
        "print(oct(9876))\n",
        "print(hex(9876))"
      ]
    },
    {
      "cell_type": "code",
      "execution_count": null,
      "metadata": {
        "id": "Hm0r03lH2E0i",
        "outputId": "bfd76448-365a-45b2-bf81-c9fc087254e5"
      },
      "outputs": [
        {
          "name": "stdout",
          "output_type": "stream",
          "text": [
            "80\n",
            "3870\n",
            "64222\n",
            "0b1010000\n",
            "0o7436\n",
            "0xfade\n",
            "0b1010000\n",
            "0b1111101011011110\n",
            "0o175336\n",
            "0o7436\n",
            "0x50\n",
            "0xfade\n"
          ]
        }
      ],
      "source": [
        "#What will be the outut of following:-\n",
        "a = 0b1010000\n",
        "print(a)\n",
        "\n",
        "b = 0o7436\n",
        "print(b)\n",
        "\n",
        "c = 0xfade\n",
        "print(c)\n",
        "\n",
        "print(bin(80))\n",
        "\n",
        "print(oct(3870))\n",
        "\n",
        "print(hex(64222))\n",
        "\n",
        "print(bin(0b1010000))\n",
        "\n",
        "print(bin(0xfade))\n",
        "\n",
        "print(oct(0xfade))\n",
        "\n",
        "print(oct(0o7436))\n",
        "\n",
        "print(hex(0b1010000))\n",
        "\n",
        "print(hex(0xfade))"
      ]
    },
    {
      "cell_type": "code",
      "execution_count": null,
      "metadata": {
        "id": "dPeyq-BN860f"
      },
      "outputs": [],
      "source": [
        ""
      ]
    }
  ],
  "metadata": {
    "colab": {
      "name": "Int_assignmentcompleted.ipynb",
      "provenance": [],
      "include_colab_link": true
    },
    "kernelspec": {
      "display_name": "Python 3 (ipykernel)",
      "language": "python",
      "name": "python3"
    },
    "language_info": {
      "codemirror_mode": {
        "name": "ipython",
        "version": 3
      },
      "file_extension": ".py",
      "mimetype": "text/x-python",
      "name": "python",
      "nbconvert_exporter": "python",
      "pygments_lexer": "ipython3",
      "version": "3.9.12"
    }
  },
  "nbformat": 4,
  "nbformat_minor": 0
}